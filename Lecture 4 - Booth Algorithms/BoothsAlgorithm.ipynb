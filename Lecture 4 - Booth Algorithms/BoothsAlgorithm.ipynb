{
 "cells": [
  {
   "cell_type": "code",
   "execution_count": 1,
   "metadata": {},
   "outputs": [
    {
     "name": "stdout",
     "output_type": "stream",
     "text": [
      "00000000\n"
     ]
    }
   ],
   "source": [
    "# Define the input variables\n",
    "A = '10101010'  # 8-bit binary number\n",
    "B = '11001100'  # 8-bit binary number\n",
    "Q = '01100110'  # 8-bit binary number\n",
    "Q0 = Q[-1]  # Least significant bit of Q\n",
    "P = '0' * 16  # 16-bit binary number representing the product\n",
    "\n",
    "# Implement Booth's algorithm\n",
    "for _ in range(8):\n",
    "    # Check the value of Q0 and the least significant bit of Q\n",
    "    if Q0 == Q[-1]:\n",
    "        # Perform a right shift operation on P and Q\n",
    "        P = P[:-1]\n",
    "        Q = Q[0] + Q[:-1]\n",
    "    elif Q0 == '0' and Q[-1] == '1':\n",
    "        # Perform an addition operation on P and A, then right shift P and Q\n",
    "        P = bin(int(P, 2) + int(A, 2))[2:].zfill(16)\n",
    "        P = P[:-1]\n",
    "        Q = Q[0] + Q[:-1]\n",
    "    elif Q0 == '1' and Q[-1] == '0':\n",
    "        # Perform a subtraction operation on P and A, then right shift P and Q\n",
    "        P = bin(int(P, 2) - int(A, 2))[2:].zfill(16)\n",
    "        P = P[:-1]\n",
    "        Q = Q[0] + Q[:-1]\n",
    "    \n",
    "    # Update Q0 with the new least significant bit of Q\n",
    "    Q0 = Q[-1]\n",
    "\n",
    "# The final product is stored in P\n",
    "product = P[-8:]\n",
    "print(product)\n"
   ]
  },
  {
   "cell_type": "code",
   "execution_count": null,
   "metadata": {},
   "outputs": [],
   "source": []
  }
 ],
 "metadata": {
  "kernelspec": {
   "display_name": "Python 3",
   "language": "python",
   "name": "python3"
  },
  "language_info": {
   "codemirror_mode": {
    "name": "ipython",
    "version": 3
   },
   "file_extension": ".py",
   "mimetype": "text/x-python",
   "name": "python",
   "nbconvert_exporter": "python",
   "pygments_lexer": "ipython3",
   "version": "3.11.4"
  }
 },
 "nbformat": 4,
 "nbformat_minor": 2
}
