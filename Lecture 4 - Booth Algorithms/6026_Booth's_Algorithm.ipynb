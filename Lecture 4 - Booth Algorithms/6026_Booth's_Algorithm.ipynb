{
 "cells": [
  {
   "cell_type": "code",
   "execution_count": 129,
   "metadata": {},
   "outputs": [],
   "source": [
    "# Booth's Algorithm\n",
    "# Created by Sawit Koseeyaumporn 65070506026\n",
    "\n",
    "def addition(A, M):\n",
    "    result = bin(int(A, 2) + int(M, 2))[2:].zfill(8)\n",
    "    if len(result) > 8:\n",
    "        result = result[1:]\n",
    "    return result\n",
    "\n",
    "def twos_complement(number):\n",
    "    new = \"\"\n",
    "    for i in number:\n",
    "        if i == '0':\n",
    "            new += '1'\n",
    "        else:\n",
    "            new += '0'\n",
    "    return bin(int(new, 2) + 1)[2:].zfill(8)\n",
    "\n",
    "def subtraction(A, M):\n",
    "    # Two's complement of M\n",
    "    M = twos_complement(M)\n",
    "    \n",
    "    # print(\"From subtraction : \" , bin(int(A, 2) + int(M, 2))[2:].zfill(8))\n",
    "    result = bin(int(A, 2) + int(M, 2))[2:].zfill(8)\n",
    "    if len(result) > 8:\n",
    "        result = result[1:]\n",
    "    return result\n",
    "    \n",
    "\n",
    "def BoothAlgorithm(M,Q):\n",
    "\n",
    "    M, Q = bin(int(M, 16))[2:].zfill(8), bin(int(Q, 16))[2:].zfill(8)\n",
    "    A = '00000000'\n",
    "    Q_1 = '0'\n",
    "\n",
    "    for i in range(8):\n",
    "        if Q[-1] == '1' and Q_1 == '0':\n",
    "            A = subtraction(A, M)\n",
    "            print('Sub Cycle', i , '\\t:' , A, Q, Q_1)\n",
    "        elif Q[-1] == '0' and Q_1 == '1':\n",
    "            A = addition(A, M)\n",
    "            print('Add Cycle' , i, '\\t:' , A, Q, Q_1)\n",
    "\n",
    "        # Arithmetic Shift Right\n",
    "        Q_1 = Q[-1]\n",
    "        Q = A[-1] + Q[:-1]\n",
    "        A = A[0] + A[:-1]\n",
    "        print('Shift Cycle',i,'\\t:', A, Q, Q_1)\n",
    "\n",
    "    result = A + Q + Q_1\n",
    "    return result"
   ]
  },
  {
   "cell_type": "code",
   "execution_count": 130,
   "metadata": {},
   "outputs": [
    {
     "name": "stdout",
     "output_type": "stream",
     "text": [
      "Shift Cycle 0 \t: 00000000 00001000 0\n",
      "Shift Cycle 1 \t: 00000000 00000100 0\n",
      "Shift Cycle 2 \t: 00000000 00000010 0\n",
      "Shift Cycle 3 \t: 00000000 00000001 0\n",
      "Sub Cycle 4 \t: 11110110 00000001 0\n",
      "Shift Cycle 4 \t: 11111011 00000000 1\n",
      "Add Cycle 5 \t: 00000101 00000000 1\n",
      "Shift Cycle 5 \t: 00000010 10000000 0\n",
      "Shift Cycle 6 \t: 00000001 01000000 0\n",
      "Shift Cycle 7 \t: 00000000 10100000 0\n",
      "\n",
      "Result in binary is 00000000101000000\n",
      "Result in decimal is 320\n"
     ]
    }
   ],
   "source": [
    "# Test Case 2.1 - 0A x 10\n",
    "M = '0A'\n",
    "Q = '10'\n",
    "result = BoothAlgorithm(M, Q)\n",
    "print(\"\\nResult in binary is\" , result)\n",
    "print(\"Result in decimal is\", int(result, 2))"
   ]
  },
  {
   "cell_type": "code",
   "execution_count": 131,
   "metadata": {},
   "outputs": [
    {
     "name": "stdout",
     "output_type": "stream",
     "text": [
      "Sub Cycle 0 \t: 11000001 00000011 0\n",
      "Shift Cycle 0 \t: 11100000 10000001 1\n",
      "Shift Cycle 1 \t: 11110000 01000000 1\n",
      "Add Cycle 2 \t: 00101111 01000000 1\n",
      "Shift Cycle 2 \t: 00010111 10100000 0\n",
      "Shift Cycle 3 \t: 00001011 11010000 0\n",
      "Shift Cycle 4 \t: 00000101 11101000 0\n",
      "Shift Cycle 5 \t: 00000010 11110100 0\n",
      "Shift Cycle 6 \t: 00000001 01111010 0\n",
      "Shift Cycle 7 \t: 00000000 10111101 0\n",
      "\n",
      "Result in binary is 00000000101111010\n",
      "Result in decimal is 378\n"
     ]
    }
   ],
   "source": [
    "# Test Case 2.2 - 3F x 03\n",
    "M = '3F'\n",
    "Q = '03'\n",
    "result = BoothAlgorithm(M, Q)\n",
    "print(\"\\nResult in binary is\" , result)\n",
    "print(\"Result in decimal is\", int(result, 2))"
   ]
  },
  {
   "cell_type": "code",
   "execution_count": 132,
   "metadata": {},
   "outputs": [
    {
     "name": "stdout",
     "output_type": "stream",
     "text": [
      "Shift Cycle 0 \t: 00000000 01010000 0\n",
      "Shift Cycle 1 \t: 00000000 00101000 0\n",
      "Shift Cycle 2 \t: 00000000 00010100 0\n",
      "Shift Cycle 3 \t: 00000000 00001010 0\n",
      "Shift Cycle 4 \t: 00000000 00000101 0\n",
      "Sub Cycle 5 \t: 10000001 00000101 0\n",
      "Shift Cycle 5 \t: 11000000 10000010 1\n",
      "Add Cycle 6 \t: 00111111 10000010 1\n",
      "Shift Cycle 6 \t: 00011111 11000001 0\n",
      "Sub Cycle 7 \t: 10100000 11000001 0\n",
      "Shift Cycle 7 \t: 11010000 01100000 1\n",
      "\n",
      "Result in binary is 11010000011000001\n",
      "Result in decimal is 106689\n"
     ]
    }
   ],
   "source": [
    "# Test Case 2.3 - 7F x A0\n",
    "M = '7F'\n",
    "Q = 'A0'\n",
    "result = BoothAlgorithm(M, Q)\n",
    "print(\"\\nResult in binary is\" , result)\n",
    "print(\"Result in decimal is\", int(result, 2))"
   ]
  },
  {
   "cell_type": "code",
   "execution_count": 133,
   "metadata": {},
   "outputs": [
    {
     "name": "stdout",
     "output_type": "stream",
     "text": [
      "Sub Cycle 0 \t: 01010110 01010101 0\n",
      "Shift Cycle 0 \t: 00101011 00101010 1\n",
      "Add Cycle 1 \t: 11010101 00101010 1\n",
      "Shift Cycle 1 \t: 11101010 10010101 0\n",
      "Sub Cycle 2 \t: 01000000 10010101 0\n",
      "Shift Cycle 2 \t: 00100000 01001010 1\n",
      "Add Cycle 3 \t: 11001010 01001010 1\n",
      "Shift Cycle 3 \t: 11100101 00100101 0\n",
      "Sub Cycle 4 \t: 00111011 00100101 0\n",
      "Shift Cycle 4 \t: 00011101 10010010 1\n",
      "Add Cycle 5 \t: 11000111 10010010 1\n",
      "Shift Cycle 5 \t: 11100011 11001001 0\n",
      "Sub Cycle 6 \t: 00111001 11001001 0\n",
      "Shift Cycle 6 \t: 00011100 11100100 1\n",
      "Add Cycle 7 \t: 11000110 11100100 1\n",
      "Shift Cycle 7 \t: 11100011 01110010 0\n",
      "\n",
      "Result in binary is 11100011011100100\n",
      "Result in decimal is 116452\n"
     ]
    }
   ],
   "source": [
    "# Test Case 2.4 - AA x 55\n",
    "M = 'AA'\n",
    "Q = '55'\n",
    "result = BoothAlgorithm(M, Q)\n",
    "print(\"\\nResult in binary is\" , result)\n",
    "print(\"Result in decimal is\", int(result, 2))"
   ]
  },
  {
   "cell_type": "markdown",
   "metadata": {},
   "source": [
    "---"
   ]
  },
  {
   "cell_type": "markdown",
   "metadata": {},
   "source": [
    "* นายศวิษฐ์ โกสียอัมพร 65070506026"
   ]
  }
 ],
 "metadata": {
  "kernelspec": {
   "display_name": "Python 3",
   "language": "python",
   "name": "python3"
  },
  "language_info": {
   "codemirror_mode": {
    "name": "ipython",
    "version": 3
   },
   "file_extension": ".py",
   "mimetype": "text/x-python",
   "name": "python",
   "nbconvert_exporter": "python",
   "pygments_lexer": "ipython3",
   "version": "3.11.4"
  }
 },
 "nbformat": 4,
 "nbformat_minor": 2
}
